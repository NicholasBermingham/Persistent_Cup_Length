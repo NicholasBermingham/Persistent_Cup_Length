{
 "cells": [
  {
   "cell_type": "markdown",
   "id": "35e7093c-411b-4566-85b3-3dc0b38d04eb",
   "metadata": {},
   "source": [
    "# Coding Persistent Cup Length Diagram\n",
    "\n",
    "In this Jupyter Notebook we write up the necessary functions for calculating the Persistent Cup Length Diagram of a simplicial filtration adapting algorithms from \"Persistent cup-length\" by Contesotto M, Memoli F, Stefanou A, Zhou L and using the Oineus python module by Nigmetov A which you may need to pip install before running this notebook.\n",
    "\n",
    "One small note is that Algorithm 3 from \"Persistent cup-length\" has a subtle error in its last line that is corrected here. \n",
    "\n",
    "Below we define all of the functions needed for the implementation:"
   ]
  },
  {
   "cell_type": "code",
   "execution_count": 17,
   "id": "378ea65d-f3a3-4d38-a670-94fe1460015d",
   "metadata": {},
   "outputs": [],
   "source": [
    "#import libraries\n",
    "import matplotlib.pyplot as plt\n",
    "import oineus as oin\n",
    "import numpy as np\n",
    "from copy import deepcopy\n",
    "\n",
    "#Key functions: Cup Product, Dualize cells, Pivot Columns, Get U matrix, Get Cocycles (TB Added)\n",
    "#May be a good idea to work out how to remove verbose barcodes when doing Vietoris Rips calculations\n",
    "\n",
    "def cup_Product(sigma_1,sigma_2, cells):\n",
    "    #cells is a list of simplices, sigma_i is an element of the cohomology ring given by the ids of the simplices.\n",
    "    #initialize output\n",
    "    sigma = []\n",
    "    #Check for 0 input\n",
    "    if (sigma_1 == [] or sigma_2 == []):\n",
    "        return sigma\n",
    "    #Efficiencies to implement later: Dimension bound to skip a loop\n",
    "    for i in range(0,len(sigma_1)):\n",
    "            a = cells[sigma_1[i]].vertices\n",
    "            for j in range(0,len(sigma_2)):\n",
    "                b = cells[sigma_2[j]].vertices\n",
    "                if(a[-1] == b[0]):\n",
    "                    c = a+b[1:len(b)]\n",
    "                    #Check if the result is in cells. \n",
    "                    #Efficiency to implement later: Reduce range to just those simplices of the right dimension. maybe using dim first dim last in filtration\n",
    "                    for k in range(0,len(cells)):\n",
    "                        if(c==cells[k].vertices):\n",
    "                            sigma.append(k)\n",
    "    sigma.sort()\n",
    "    return sigma\n",
    "\n",
    "def get_Pivots(Rmatrix):\n",
    "    #Get the pivot columns from the reduced coboundary matrix.\n",
    "    #Initalise output\n",
    "    Pivots_R = []\n",
    "    for i in range(0,len(Rmatrix)):\n",
    "        if(Rmatrix[i] != []):\n",
    "            Pivots_R.append(Rmatrix[i][-1])\n",
    "    return Pivots_R\n",
    "\n",
    "def matrix_Multiplication_for_Sparse_Arrays(A,B):\n",
    "    #Given the sparse matrix notation of oineus which lists columns with a nonzero entry assuming Z_2 coefficients, compute their matrix multiplication A.B\n",
    "    #I am assuming size A = size B\n",
    "    AB = []\n",
    "    m = len(B)\n",
    "    for j in range(m):\n",
    "        C = set([])\n",
    "        for i in B[j]:\n",
    "            C = C^set(A[i])\n",
    "        AB.append(list(C))\n",
    "    for i in range(m):\n",
    "        AB[i].sort()\n",
    "    return AB\n",
    "\n",
    "def get_Row_Operation_Matrix( R):\n",
    "    #Given reduced matrix R get the Row Operation Matrix U needed to check for coboundaries\n",
    "    #Initialise output\n",
    "    U = []\n",
    "    Rm = deepcopy(R)\n",
    "    m = len(Rm)\n",
    "    for j in range(m):\n",
    "        #make U the identity matrix\n",
    "        U.append([j])\n",
    "    for j in range(m):\n",
    "        #Go over each column to reduce\n",
    "        Rm[j].sort()\n",
    "        verts = Rm[j]\n",
    "        #Check for empty column\n",
    "        if (verts != []):\n",
    "            E = []\n",
    "            for n in range(m):\n",
    "                #make U the identity matrix\n",
    "                E.append([n])\n",
    "            #select row of Rmatrix\n",
    "            for i in verts[0:len(verts)-1]:\n",
    "                #Update each column of Rmatrix\n",
    "                for k in range(m):\n",
    "                    if (verts[-1] in Rm[k]):\n",
    "                        if (i in Rm[k]):\n",
    "                            #remove i from Rmatrix[k]\n",
    "                            Rm[k].remove(i)\n",
    "                        else:\n",
    "                            Rm[k].append(i)\n",
    "                #Update U to account for the above row operation            \n",
    "                E[verts[-1]].append(i)\n",
    "            U = matrix_Multiplication_for_Sparse_Arrays(E,U)\n",
    "    return U\n",
    "\n",
    "\n",
    "class Cocycle:\n",
    "    def __init__(self, simplices, birth, death):\n",
    "        self.simplices = simplices\n",
    "        self.birth = birth\n",
    "        self.death = death\n",
    "        self.life = [birth, death]\n",
    "        self.birth_index = 0\n",
    "        self.death_index = 0\n",
    "        \n",
    "#test = Cocycle([[2,12,48],[1,3,5]],0.2,0.5)\n",
    "\n",
    "def get_Cocycle_Reps(dcmp,fil,V, dim_bound):\n",
    "    #ensure dcmp has been reduced before calling this function\n",
    "    Cocycle_Reps = []\n",
    "    for i in range(1,dim_bound+1):\n",
    "        dgms = dcmp.diagram(fil).in_dimension(i)\n",
    "        indx_dgms = dcmp.diagram(fil).index_diagram_in_dimension(i)\n",
    "        for j in range(len(dgms)):\n",
    "            sigma_idx = fil.id_by_sorted_id(indx_dgms[j][0])\n",
    "            new_Cocycle = Cocycle(V[len(V)-1-sigma_idx],dgms[j][0],dgms[j][1])\n",
    "            Cocycle_Reps.append(new_Cocycle)\n",
    "    return Cocycle_Reps\n",
    "\n",
    "def check_Coboundary(Pivots, U, sigma, length):\n",
    "    vector = [[]]\n",
    "    for k in sigma:\n",
    "        if k >= length:\n",
    "            vector[0].append(k)\n",
    "    image = matrix_Multiplication_for_Sparse_Arrays(U,vector)\n",
    "    result = []\n",
    "    for k in image[0]:\n",
    "        if k>= length:\n",
    "            result.append(k)\n",
    "    sigma_is_coboundary = set(result).issubset(Pivots)\n",
    "    return sigma_is_coboundary        \n",
    "\n",
    "def Persistent_Cup_Diagram(dim_bound, Cosimplices, Rmatrix, Representative_Cocycles ):\n",
    "    #representative cocycles must have birth time and death time \n",
    "    #they should be ordered first by increasing death time and then in increasing birth time\n",
    "    #Cosimplices should be ordered from dimension 1 to k+1\n",
    "    #Potentially rewrite this so that it just inputs the filtration and a dimension bound.\n",
    "    B = [[]]\n",
    "    #Note that this puts the index one below the index listed in Algorithm 2\n",
    "    for barcode in Representative_Cocycles:\n",
    "        if len(Cosimplices[barcode.simplices[0]].vertices) != 1:\n",
    "            B[0].append(barcode)\n",
    "    b_time = []\n",
    "    d_time = []\n",
    "    for barcode in B[0]:\n",
    "        if (barcode.birth in b_time) == False:\n",
    "            barcode.birth_index = len(b_time)\n",
    "            b_time.append(barcode.birth)\n",
    "        else:\n",
    "            for k in range(len(b_time)):\n",
    "                if barcode.birth == b_time[k]:\n",
    "                    barcode.birth_index = k\n",
    "        if (barcode.death in d_time) == False:\n",
    "            barcode.death_index = len(d_time)\n",
    "            d_time.append(barcode.death)\n",
    "        else: \n",
    "            for k in range(len(d_time)):\n",
    "                if barcode.death == d_time[k]:\n",
    "                    barcode.death_index = k\n",
    "    #The index stuff is to avoid having float == float statements later on though there are some in determining the indices\n",
    "    m = len(Cosimplices)\n",
    "    Pivots = get_Pivots(Rmatrix)\n",
    "    l = 1\n",
    "    U = get_Row_Operation_Matrix(Rmatrix)\n",
    "    A_0 = np.zeros((len(b_time),len(d_time)))\n",
    "    A_1 = np.zeros((len(b_time),len(d_time)))\n",
    "    A = []\n",
    "    A.append(A_0)\n",
    "    A.append(A_1)\n",
    "    for barcode in B[0]:\n",
    "        i = barcode.birth_index\n",
    "        j = barcode.death_index\n",
    "        A[1][i,j] = 1\n",
    "    while ((A[l] != A[l-1]).any()) and (l <= dim_bound-1):\n",
    "        A.append(deepcopy(A[l]))\n",
    "        B.append([])\n",
    "        for barcode_1 in B[0]:\n",
    "            for barcode_2 in B[l-1]:\n",
    "                sigma = cup_Product(barcode_1.simplices,barcode_2.simplices, Cosimplices)\n",
    "                if sigma == []:\n",
    "                    continue\n",
    "                death_index = min(barcode_1.death_index, barcode_2.death_index)\n",
    "                index_set = []\n",
    "                for k in range(len(b_time)):\n",
    "                    if b_time[k] <= d_time[death_index]:\n",
    "                        index_set.append(k)\n",
    "                birth_index = max(index_set)\n",
    "                s = 0\n",
    "                for tau in Cosimplices:\n",
    "                    if tau.value <= b_time[birth_index]:\n",
    "                        s+= 1\n",
    "                while (check_Coboundary(Pivots, U, sigma, m+1-s) == True) and (birth_index >= 0):\n",
    "                    birth_index = birth_index-1\n",
    "                    s = 0\n",
    "                    for tau in Cosimplices:\n",
    "                        if tau.value <= b_time[birth_index]:\n",
    "                            s+= 1\n",
    "                if b_time[birth_index] < d_time[death_index]:\n",
    "                    new_Cocycle = Cocycle(sigma,b_time[birth_index], d_time[death_index])\n",
    "                    new_Cocycle.birth_index = birth_index\n",
    "                    new_Cocycle.death_index = death_index\n",
    "                    B[l].append(deepcopy(new_Cocycle))\n",
    "                    A[l+1][birth_index,death_index] = l+1\n",
    "        l+=1\n",
    "    return [A[l],b_time,d_time]\n"
   ]
  },
  {
   "cell_type": "markdown",
   "id": "cc3703c3-1ef0-4348-ad36-f20a25e0e5f7",
   "metadata": {},
   "source": [
    "## Example 1: Torus\n",
    "\n",
    "We begin by showing how to use these functions on a simplicial model of a torus. \n",
    "\n",
    "First we specify the simplices needed for this model. These are written as objects of the class oin.Simplex which requires the specification of the vertices (listed in increasing order) and the time at which the simplex is added in the filtration. We put these simplices in a list and create a filtration from oin.Filtration(Simplices).\n",
    "\n",
    "These simplex objects in the filtration also have the attribute id and the $0$-simplices should be listed so that their vertex matches their simplex id."
   ]
  },
  {
   "cell_type": "code",
   "execution_count": 2,
   "id": "2b664075-9618-46d4-9c0b-72f0cb03df96",
   "metadata": {},
   "outputs": [],
   "source": [
    "#simplicial model of a torus.\n",
    "\n",
    "#vertices\n",
    "v0 = oin.Simplex([0],0.1)\n",
    "v1 = oin.Simplex([1],0.2)\n",
    "v2 = oin.Simplex([2],0.3)\n",
    "v3 = oin.Simplex([3],0.4)\n",
    "v4 = oin.Simplex([4],0.5)\n",
    "v5 = oin.Simplex([5],0.6)\n",
    "v6 = oin.Simplex([6],0.7)\n",
    "v7 = oin.Simplex([7],0.8)\n",
    "v8 = oin.Simplex([8],0.9)\n",
    "\n",
    "#edges\n",
    "e1 = oin.Simplex([0,1],1.1)\n",
    "e2 = oin.Simplex([0,2],1.1)\n",
    "e3 = oin.Simplex([0,3],1.1)\n",
    "e4 = oin.Simplex([0,4],1.2)\n",
    "e5 = oin.Simplex([0,6],1.2)\n",
    "e6 = oin.Simplex([0,8],1.2)\n",
    "e7 = oin.Simplex([1,2],1.3)\n",
    "e8 = oin.Simplex([1,4],1.3)\n",
    "e9 = oin.Simplex([1,5],1.3)\n",
    "e10 = oin.Simplex([1,6],1.4)\n",
    "e11 = oin.Simplex([1,7],1.4)\n",
    "e12 = oin.Simplex([2,3],1.4)\n",
    "e13 = oin.Simplex([2,5],1.5)\n",
    "e14 = oin.Simplex([2,7],1.5)\n",
    "e15 = oin.Simplex([2,8],1.5)\n",
    "e16 = oin.Simplex([3,4],1.6)\n",
    "e17 = oin.Simplex([3,5],1.6)\n",
    "e18 = oin.Simplex([3,6],1.6)\n",
    "e19 = oin.Simplex([3,7],1.7)\n",
    "e20 = oin.Simplex([4,5],1.7)\n",
    "e21 = oin.Simplex([4,7],1.7)\n",
    "e22 = oin.Simplex([4,8],1.8)\n",
    "e23 = oin.Simplex([5,6],1.8)\n",
    "e24 = oin.Simplex([5,8],1.8)\n",
    "e25 = oin.Simplex([6,7],1.9)\n",
    "e26 = oin.Simplex([6,8],1.9)\n",
    "e27 = oin.Simplex([7,8],1.9)\n",
    "\n",
    "#triangles\n",
    "\n",
    "t1 = oin.Simplex([0,1,4], 2.2)\n",
    "t2 = oin.Simplex([0,1,6], 2.2)\n",
    "t3 = oin.Simplex([0,2,3], 2.2)\n",
    "t4 = oin.Simplex([0,2,8], 2.4)\n",
    "t5 = oin.Simplex([0,3,4], 2.4)\n",
    "t6 = oin.Simplex([0,6,8], 2.4)\n",
    "t7 = oin.Simplex([1,2,5], 2.6)\n",
    "t8 = oin.Simplex([1,2,7], 2.6)\n",
    "t9 = oin.Simplex([1,4,5], 2.6)\n",
    "t10 = oin.Simplex([1,6,7], 2.8)\n",
    "t11 = oin.Simplex([2,3,5], 2.8)\n",
    "t12 = oin.Simplex([2,7,8], 2.8)\n",
    "t13 = oin.Simplex([3,4,7], 2.8)\n",
    "t14 = oin.Simplex([3,5,6], 2.8)\n",
    "t15 = oin.Simplex([3,6,7], 2.9)\n",
    "t16 = oin.Simplex([4,5,8], 2.9)\n",
    "t17 = oin.Simplex([4,7,8], 2.9)\n",
    "t18 = oin.Simplex([5,6,8], 2.9)\n",
    "\n",
    "Simplices = [v0, v1, v2, v3, v4, v5, v6, v7, v8, e1, e2, e3, e4, e5, e6, e7, e8, e9, e10, e11, e12, e13, e14, e15, e16, e17, e18, e19, e20, e21, e22, e23, e24, e25, e26, e27, t1, t2, t3, t4, t5, t6, t7, t8, t9, t10, t11, t12, t13, t14, t15, t16, t17, t18]\n",
    "\n",
    "fil = oin.Filtration(Simplices)\n"
   ]
  },
  {
   "cell_type": "markdown",
   "id": "4b580bc4-8965-4991-9e11-a80bb6eaffcb",
   "metadata": {},
   "source": [
    "Now that we have a filtration we use the functions in Oineus to get the VRU Decomposition of this filtration. We will need the V and R matrices of this filtration which are written in a sparse matrix notation ([[0], [1], [0,2]] encodes the matrix with 1s in the [1,1], [2,2], [3,3] and [1,3] coordinates and zeros elsewhere). For our purposes, these matrices have coordinates in $\\mathbb{Z}_2$\n",
    "\n",
    "We note that we will want to use the dualized form of this to get Cocycle Representatives which reverses the order in which our cosimplices are listed i.e. if we have $n$ Simplices in Total, the dual simplex to simplex $i$, is indexed as $n-1-i$ in the matrices V and R. To refer to these cosimplices we create a list sorting our simplices in order of decreasing id."
   ]
  },
  {
   "cell_type": "code",
   "execution_count": 3,
   "id": "12271d54-ccd8-4bdd-bdb9-f19d1f9037ed",
   "metadata": {},
   "outputs": [
    {
     "name": "stdout",
     "output_type": "stream",
     "text": [
      "[34, 35, 36, 37, 38, 44]\n",
      "([1, 7], 1.4)\n",
      "([1, 6], 1.4)\n",
      "([1, 5], 1.3)\n",
      "([1, 4], 1.3)\n",
      "([1, 2], 1.3)\n",
      "([0, 1], 1.1)\n"
     ]
    }
   ],
   "source": [
    "# cohomology\n",
    "dualize = True\n",
    "# create VRU decomposition object, does not perform reduction yet\n",
    "dcmp = oin.Decomposition(fil, dualize)\n",
    "\n",
    "rp = oin.ReductionParams()\n",
    "\n",
    "rp.compute_u = rp.compute_v = True\n",
    "rp.n_threads = 1\n",
    "# perform reduction\n",
    "dcmp.reduce(rp)\n",
    "\n",
    "# now we can acess V, R and U\n",
    "# indices are sorted_ids of simplices == indices in fil.cells()\n",
    "V = dcmp.v_data\n",
    "R = dcmp.r_data\n",
    "\n",
    "simplices = fil.simplices()\n",
    "cosimplices = sorted(simplices, key= lambda x: x.id , reverse = True)\n",
    "\n",
    "#Below we get the coboundary of the vertex [1]\n",
    "print(R[52])\n",
    "for sigma_ids in R[52]:\n",
    "    print(cosimplices[sigma_ids])"
   ]
  },
  {
   "cell_type": "markdown",
   "id": "068d58bf-efed-4095-8d1b-f26b6434a0db",
   "metadata": {},
   "source": [
    "### Persistence Diagrams\n",
    "\n",
    "Using this decomposition, we can get the Persistent Cohomology diagrams in each dimension using the following methods which lists the barcodes in each dimension"
   ]
  },
  {
   "cell_type": "code",
   "execution_count": 4,
   "id": "9d2b22ff-fe36-4370-bbf0-06c18c34b914",
   "metadata": {},
   "outputs": [
    {
     "data": {
      "image/png": "[encoded data removed]",
      "text/plain": [
       "<Figure size 640x480 with 1 Axes>"
      ]
     },
     "metadata": {},
     "output_type": "display_data"
    }
   ],
   "source": [
    "dgms = dcmp.diagram(fil)\n",
    "\n",
    "dgm_0 = dcmp.diagram(fil).in_dimension(0)\n",
    "assert type(dgm_0) is np.ndarray\n",
    "dgm_0_x = dgm_0[:,0]\n",
    "dgm_0_y = dgm_0[:,1]\n",
    "dgm_1 = dcmp.diagram(fil).in_dimension(1)\n",
    "dgm_1_x = dgm_1[:,0]\n",
    "dgm_1_y = dgm_1[:,1]\n",
    "#Alternative notation\n",
    "dgm_2 = dcmp.diagram(fil)[2]\n",
    "dgm_2_x = dgm_2[:,0]\n",
    "dgm_2_y = dgm_2[:,1]\n",
    "\n",
    "# To load the display window\n",
    "plt.plot(dgm_0_x,dgm_0_y, 'bo', label = '0-barcodes')\n",
    "plt.plot(dgm_1_x,dgm_1_y, 'ro', label = '1-barcodes')\n",
    "X = np.arange(0, 5, 0.05)\n",
    "Y = X\n",
    "plt.plot(X,Y, 'k-')\n",
    "#plt.plot(dgm_2_x,dgm_2_y, 'go', label = '2-barcodes')\n",
    "\n",
    "plt.xlabel(\"Births\")\n",
    "plt.ylabel(\"Deaths\")\n",
    "plt.title(\"Persistence Diagrams for Non-Essential classes in the simplicial Torus\")\n",
    "\n",
    "plt.legend()\n",
    "\n",
    "plt.show()\n",
    "#print(\"1-dimensional persistence diagram is\")\n",
    "#print(\"2-dimensional persistence diagram is\")\n"
   ]
  },
  {
   "cell_type": "markdown",
   "id": "0343c65b-97c0-4d13-bf23-bc9547b6ae96",
   "metadata": {},
   "source": [
    "### Persistent Cup-Length\n",
    "\n",
    "We now go over how to use this information to calculate the Persistent Cup-Length Diagram associated to the cocycle representatives gained from this R and V Matrix.\n",
    "\n",
    "Following Algorithm 2 in \"Persistent Cup-Length\" we need A dimension bound, which is implicit in explicit filtrations, the ordered list of cosimplices (above) the column reduced R Matrix (above) and the barcodes annotated by their representative cocycles listed first in increasing order of death times, then in the increasing order of birth times. \n",
    "\n",
    "We get these annotated barcodes by the get_Cocycle_Reps function which pulls out all of the barcodes from the oineus decomposition and pulls out the corresponding column of the V matrix which lists the cosimplices that compose the cocycle representing this barcode"
   ]
  },
  {
   "cell_type": "code",
   "execution_count": 20,
   "id": "8257096c-fe1f-4cc2-a57f-17f8fde722e7",
   "metadata": {},
   "outputs": [
    {
     "name": "stdout",
     "output_type": "stream",
     "text": [
      "[18] 1.9 2.8\n",
      "[19] 1.9 2.4\n",
      "[20] 1.9 2.8\n",
      "[21] 1.8 2.9\n",
      "[22] 1.8 2.8\n",
      "[21, 23] 1.8 2.9\n",
      "[24] 1.7 2.8\n",
      "[25] 1.7 2.6\n",
      "[24, 26] 1.7 2.9\n",
      "[21, 22, 23, 24, 26, 27] 1.6 inf\n",
      "[28] 1.6 2.8\n",
      "[29] 1.6 2.4\n",
      "[30] 1.5 2.4\n",
      "[31] 1.5 2.6\n",
      "[32] 1.5 2.6\n",
      "[33] 1.4 2.2\n",
      "[35] 1.4 2.2\n",
      "[37] 1.3 2.2\n",
      "[18, 21, 22, 23, 28, 31, 32, 38] 1.3 inf\n",
      "[0] 2.9 inf\n"
     ]
    }
   ],
   "source": [
    "RCocycles = get_Cocycle_Reps(dcmp,fil,V,2)\n",
    "for i in range(len(RCocycles)):\n",
    "    print(RCocycles[i].simplices, RCocycles[i].birth,RCocycles[i].death)"
   ]
  },
  {
   "cell_type": "markdown",
   "id": "cf4f2a85-5e6c-4512-9d5b-ea40f83cacba",
   "metadata": {},
   "source": [
    "We then sort these cocycles first in increasing order of death time, then by increasing order of birth time."
   ]
  },
  {
   "cell_type": "code",
   "execution_count": 21,
   "id": "0e478aaa-dbd4-4200-aa37-9a416d61d70b",
   "metadata": {},
   "outputs": [
    {
     "name": "stdout",
     "output_type": "stream",
     "text": [
      "\n",
      "[37] [np.float64(1.3), np.float64(2.2)]\n",
      "[33] [np.float64(1.4), np.float64(2.2)]\n",
      "[35] [np.float64(1.4), np.float64(2.2)]\n",
      "[30] [np.float64(1.5), np.float64(2.4)]\n",
      "[29] [np.float64(1.6), np.float64(2.4)]\n",
      "[19] [np.float64(1.9), np.float64(2.4)]\n",
      "[31] [np.float64(1.5), np.float64(2.6)]\n",
      "[32] [np.float64(1.5), np.float64(2.6)]\n",
      "[25] [np.float64(1.7), np.float64(2.6)]\n",
      "[28] [np.float64(1.6), np.float64(2.8)]\n",
      "[24] [np.float64(1.7), np.float64(2.8)]\n",
      "[22] [np.float64(1.8), np.float64(2.8)]\n",
      "[18] [np.float64(1.9), np.float64(2.8)]\n",
      "[20] [np.float64(1.9), np.float64(2.8)]\n",
      "[24, 26] [np.float64(1.7), np.float64(2.9)]\n",
      "[21] [np.float64(1.8), np.float64(2.9)]\n",
      "[21, 23] [np.float64(1.8), np.float64(2.9)]\n",
      "[18, 21, 22, 23, 28, 31, 32, 38] [np.float64(1.3), np.float64(inf)]\n",
      "[21, 22, 23, 24, 26, 27] [np.float64(1.6), np.float64(inf)]\n",
      "[0] [np.float64(2.9), np.float64(inf)]\n"
     ]
    }
   ],
   "source": [
    "ReorderedCocycles = sorted(RCocycles, key= lambda x: (x.death, x.birth), reverse=False)\n",
    "\n",
    "print(\"\")\n",
    "\n",
    "for i in range(len(ReorderedCocycles)):\n",
    "    print(ReorderedCocycles[i].simplices,ReorderedCocycles[i].life)"
   ]
  },
  {
   "cell_type": "code",
   "execution_count": 22,
   "id": "8370606a-150e-4373-92b0-6a711dfb33ad",
   "metadata": {},
   "outputs": [
    {
     "name": "stdout",
     "output_type": "stream",
     "text": [
      "[[1. 0. 0. 0. 0. 1.]\n",
      " [1. 0. 0. 0. 0. 0.]\n",
      " [0. 1. 1. 0. 0. 0.]\n",
      " [0. 1. 0. 1. 0. 1.]\n",
      " [0. 1. 0. 1. 0. 0.]\n",
      " [0. 0. 1. 1. 1. 0.]\n",
      " [0. 0. 0. 1. 1. 0.]\n",
      " [0. 0. 0. 0. 0. 2.]]\n",
      "[np.float64(1.3), np.float64(1.4), np.float64(1.5), np.float64(1.6), np.float64(1.9), np.float64(1.7), np.float64(1.8), np.float64(2.9)]\n",
      "[np.float64(2.2), np.float64(2.4), np.float64(2.6), np.float64(2.8), np.float64(2.9), np.float64(inf)]\n"
     ]
    }
   ],
   "source": [
    "Cup_diagram = Persistent_Cup_Diagram(4, cosimplices, R, ReorderedCocycles)\n",
    "\n",
    "Cup_diagram_Matrix = Cup_diagram[0]\n",
    "b_time = Cup_diagram[1]\n",
    "d_time = Cup_diagram[2]\n",
    "\n",
    "print(Cup_diagram_Matrix)\n",
    "print(b_time)\n",
    "print(d_time)"
   ]
  },
  {
   "cell_type": "markdown",
   "id": "e1e1e30b-2826-4f31-8a33-ddc9afc6af63",
   "metadata": {},
   "source": [
    "This recovers the Persistent cup length function which sends every interval whose starting point is greater than or equal to 2.9 to 2 and every interval whose starting point is between 1.3 and 2.9 to 1"
   ]
  },
  {
   "cell_type": "markdown",
   "id": "e249a9c3-7d87-4b20-82b7-8f72f4e7e913",
   "metadata": {},
   "source": [
    "## Example 2: Klein Bottle\n",
    "\n",
    "Next we go over an example from the paper \"Persistent Cup-Length\" using a simplicial model for a Klein Bottle in which we add an extra simplex to kill one of the essential $1$-cocycles"
   ]
  },
  {
   "cell_type": "code",
   "execution_count": 8,
   "id": "bfea3429-d86f-415b-8bd4-03af04f683d5",
   "metadata": {},
   "outputs": [],
   "source": [
    "#simplicial model of a Klein Bottle.\n",
    "\n",
    "#vertices\n",
    "w0 = oin.Simplex([0],0.1)\n",
    "w1 = oin.Simplex([1],1.0)\n",
    "w2 = oin.Simplex([2],1.0)\n",
    "w3 = oin.Simplex([3],2.0)\n",
    "w4 = oin.Simplex([4],2.0)\n",
    "w5 = oin.Simplex([5],2.0)\n",
    "w6 = oin.Simplex([6],2.0)\n",
    "w7 = oin.Simplex([7],2.0)\n",
    "w8 = oin.Simplex([8],2.0)\n",
    "\n",
    "#edges\n",
    "f1 = oin.Simplex([0,1],1.0)\n",
    "f2 = oin.Simplex([0,2],1.0)\n",
    "f3 = oin.Simplex([1,2],1.0)\n",
    "f4 = oin.Simplex([0,3],2.0)\n",
    "f5 = oin.Simplex([0,5],2.0)\n",
    "f6 = oin.Simplex([0,6],2.0)\n",
    "f7 = oin.Simplex([0,7],2.0)\n",
    "f8 = oin.Simplex([1,3],2.0)\n",
    "f9 = oin.Simplex([1,4],2.0)\n",
    "f10 = oin.Simplex([1,5],2.0)\n",
    "f11 = oin.Simplex([1,8],2.0)\n",
    "f12 = oin.Simplex([2,3],2.0)\n",
    "f13 = oin.Simplex([2,4],2.0)\n",
    "f14 = oin.Simplex([2,7],2.0)\n",
    "f15 = oin.Simplex([2,8],2.0)\n",
    "f16 = oin.Simplex([3,4],2.0)\n",
    "f17 = oin.Simplex([3,6],2.0)\n",
    "f18 = oin.Simplex([3,8],2.0)\n",
    "f19 = oin.Simplex([4,5],2.0)\n",
    "f20 = oin.Simplex([4,6],2.0)\n",
    "f21 = oin.Simplex([4,7],2.0)\n",
    "f22 = oin.Simplex([5,6],2.0)\n",
    "f23 = oin.Simplex([5,7],2.0)\n",
    "f24 = oin.Simplex([5,8],2.0)\n",
    "f25 = oin.Simplex([6,7],2.0)\n",
    "f26 = oin.Simplex([6,8],2.0)\n",
    "f27 = oin.Simplex([7,8],2.0)\n",
    "\n",
    "#triangles\n",
    "\n",
    "tr1 = oin.Simplex([0,1,2], 3.0)\n",
    "tr2 = oin.Simplex([0,1,3], 2.0)\n",
    "tr3 = oin.Simplex([0,1,5], 2.0)\n",
    "tr4 = oin.Simplex([0,2,3], 2.0)\n",
    "tr5 = oin.Simplex([0,2,7], 2.0)\n",
    "tr6 = oin.Simplex([0,5,6], 2.0)\n",
    "tr7 = oin.Simplex([0,6,7], 2.0)\n",
    "tr8 = oin.Simplex([1,2,4], 2.0)\n",
    "tr9 = oin.Simplex([1,2,8], 2.0)\n",
    "tr10 = oin.Simplex([1,3,4], 2.0)\n",
    "tr11 = oin.Simplex([1,5,8], 2.0)\n",
    "tr12 = oin.Simplex([2,3,8], 2.0)\n",
    "tr13 = oin.Simplex([2,4,7], 2.0)\n",
    "tr14 = oin.Simplex([3,4,6], 2.0)\n",
    "tr15 = oin.Simplex([3,6,8], 2.0)\n",
    "tr16 = oin.Simplex([4,5,6], 2.0)\n",
    "tr17 = oin.Simplex([4,5,7], 2.0)\n",
    "tr18 = oin.Simplex([5,7,8], 2.0)\n",
    "tr19 = oin.Simplex([6,7,8], 2.0)\n",
    "\n",
    "Klein_Simplices = [w0, w1, w2, w3, w4, w5, w6, w7, w8, f1, f2, f3, f4, f5, f6, f7, f8, f9, f10, f11, f12, f13, f14, f15, f16, f17, f18, f19, f20, f21, f22, f23, f24, f25, f26, f27, tr1, tr2, tr3, tr4, tr5, tr6, tr7, tr8, tr9, tr10, tr11, tr12, tr13, tr14, tr15, tr16, tr17, tr18, tr19]\n",
    "\n",
    "Klein_fil = oin.Filtration(Klein_Simplices)\n"
   ]
  },
  {
   "cell_type": "code",
   "execution_count": 9,
   "id": "1e565cb9-d2ea-420e-be57-6b533018cb84",
   "metadata": {},
   "outputs": [
    {
     "name": "stdout",
     "output_type": "stream",
     "text": [
      "[[], [], [], [], [], [], [], [], [], [], [], [], [], [], [], [], [], [], [], [1, 2], [1, 5], [1, 13], [2, 9], [2, 3], [4, 14], [3, 7], [4, 6], [3, 4], [5, 8], [], [6, 10], [8, 11], [7, 15], [7, 12], [8, 16], [], [9, 17], [], [10, 18], [], [], [], [], [0], [], [], [19, 20, 22, 28, 31, 35], [19, 21, 23, 25, 32, 39], [20, 21, 24, 26, 29, 40], [22, 23, 24, 27, 36, 41], [25, 26, 27, 30, 33, 37], [28, 29, 30, 34, 38, 42], [31, 32, 33, 34, 43, 44], [35, 36, 37, 38, 43, 45], []]\n",
      "[[0], [1], [2], [3], [4], [5], [6], [7], [8], [9], [10], [11], [12], [13], [14], [15], [16], [17], [18], [19], [20], [21], [22], [23], [24], [25], [26], [27], [28], [19, 20, 23, 26, 27, 29], [30], [31], [32], [33], [34], [19, 20, 22, 28, 31, 35], [36], [25, 26, 27, 30, 33, 37], [38], [19, 21, 23, 25, 32, 39], [20, 21, 24, 26, 29, 40], [22, 23, 24, 27, 36, 41], [28, 29, 30, 34, 38, 42], [19, 20, 23, 25, 28, 31, 33, 43], [31, 32, 33, 34, 43, 44], [35, 36, 37, 38, 43, 45], [46], [47], [48], [49], [50], [51], [52], [53], [46, 47, 48, 49, 50, 51, 52, 53, 54]]\n"
     ]
    }
   ],
   "source": [
    "# cohomology\n",
    "dualize = True\n",
    "# create VRU decomposition object, does not perform reduction yet\n",
    "Klein_dcmp = oin.Decomposition(Klein_fil, dualize)\n",
    "\n",
    "rp = oin.ReductionParams()\n",
    "\n",
    "rp.compute_u = rp.compute_v = True\n",
    "rp.n_threads = 1\n",
    "# perform reduction\n",
    "Klein_dcmp.reduce(rp)\n",
    "\n",
    "# now we can acess V, R and U\n",
    "# indices are sorted_ids of simplices == indices in fil.cells()\n",
    "Klein_V = Klein_dcmp.v_data\n",
    "Klein_R = Klein_dcmp.r_data\n",
    "\n",
    "Klein_simplices = Klein_fil.simplices()\n",
    "Klein_cosimplices = sorted(Klein_simplices, key= lambda x: x.id , reverse = True)\n",
    "\n",
    "print(Klein_R)\n",
    "print(Klein_V)\n"
   ]
  },
  {
   "cell_type": "code",
   "execution_count": 10,
   "id": "78eefad1-7726-4ba6-ad6f-bc1e1394884a",
   "metadata": {},
   "outputs": [
    {
     "name": "stdout",
     "output_type": "stream",
     "text": [
      "[[0.1 inf]]\n",
      "[[ 2. inf]\n",
      " [ 1.  3.]]\n",
      "[[ 2. inf]]\n"
     ]
    },
    {
     "data": {
      "image/png": "[encoded data removed]",
      "text/plain": [
       "<Figure size 640x480 with 1 Axes>"
      ]
     },
     "metadata": {},
     "output_type": "display_data"
    }
   ],
   "source": [
    "Klein_dgms = Klein_dcmp.diagram(Klein_fil)\n",
    "\n",
    "Klein_dgm_0 = Klein_dcmp.diagram(Klein_fil).in_dimension(0)\n",
    "assert type(dgm_0) is np.ndarray\n",
    "Klein_dgm_0_x = Klein_dgm_0[:,0]\n",
    "Klein_dgm_0_y = Klein_dgm_0[:,1]\n",
    "Klein_dgm_1 = Klein_dcmp.diagram(Klein_fil).in_dimension(1)\n",
    "Klein_dgm_1_x = Klein_dgm_1[:,0]\n",
    "Klein_dgm_1_y = Klein_dgm_1[:,1]\n",
    "#Alternative notation\n",
    "Klein_dgm_2 = Klein_dcmp.diagram(Klein_fil)[2]\n",
    "Klein_dgm_2_x = Klein_dgm_2[:,0]\n",
    "Klein_dgm_2_y = Klein_dgm_2[:,1]\n",
    "\n",
    "print(Klein_dgm_0)\n",
    "print(Klein_dgm_1)\n",
    "print(Klein_dgm_2)\n",
    "\n",
    "# To load the display window\n",
    "plt.plot(Klein_dgm_0_x,Klein_dgm_0_y, 'bo', label = '0-barcodes')\n",
    "plt.plot(Klein_dgm_1_x,Klein_dgm_1_y, 'ro', label = '1-barcodes')\n",
    "plt.plot(Klein_dgm_2_x,Klein_dgm_2_y, 'go', label = '2-barcodes')\n",
    "X = np.arange(0, 5, 0.05)\n",
    "Y = X\n",
    "plt.plot(X,Y, 'k-')\n",
    "#plt.plot(dgm_2_x,dgm_2_y, 'go', label = '2-barcodes')\n",
    "\n",
    "plt.xlabel(\"Births\")\n",
    "plt.ylabel(\"Deaths\")\n",
    "plt.title(\"Persistence Diagrams for Non-Essential classes in the simplicial Torus\")\n",
    "\n",
    "plt.legend()\n",
    "\n",
    "plt.show()"
   ]
  },
  {
   "cell_type": "code",
   "execution_count": 23,
   "id": "2525db05-5207-4222-8cdd-4e221eae7fc1",
   "metadata": {},
   "outputs": [
    {
     "name": "stdout",
     "output_type": "stream",
     "text": [
      "[19, 20, 23, 26, 27, 29] 2.0 inf\n",
      "[19, 20, 23, 25, 28, 31, 33, 43] 1.0 3.0\n",
      "[0] 2.0 inf\n"
     ]
    }
   ],
   "source": [
    "Klein_Rep_Cocycles = get_Cocycle_Reps(Klein_dcmp, Klein_fil, Klein_V, 2)\n",
    "\n",
    "for i in range(len(Klein_Rep_Cocycles)):\n",
    "    print(Klein_Rep_Cocycles[i].simplices, Klein_Rep_Cocycles[i].birth, Klein_Rep_Cocycles[i].death)"
   ]
  },
  {
   "cell_type": "code",
   "execution_count": 12,
   "id": "3c13e95d-e924-4acb-839d-c640211104d1",
   "metadata": {},
   "outputs": [
    {
     "name": "stdout",
     "output_type": "stream",
     "text": [
      "\n",
      "[19, 20, 23, 25, 28, 31, 33, 43] [np.float64(1.0), np.float64(3.0)]\n",
      "[19, 20, 23, 26, 27, 29] [np.float64(2.0), np.float64(inf)]\n",
      "[0] [np.float64(2.0), np.float64(inf)]\n"
     ]
    }
   ],
   "source": [
    "Klein_ReorderedCocycles = sorted(Klein_Rep_Cocycles, key= lambda x: (x.death, x.birth), reverse=False)\n",
    "\n",
    "print(\"\")\n",
    "\n",
    "for i in range(len(Klein_ReorderedCocycles)):\n",
    "    print(Klein_ReorderedCocycles[i].simplices,Klein_ReorderedCocycles[i].life)\n"
   ]
  },
  {
   "cell_type": "code",
   "execution_count": 24,
   "id": "929944f9-705c-4465-99e9-bada54799567",
   "metadata": {},
   "outputs": [
    {
     "name": "stdout",
     "output_type": "stream",
     "text": [
      "[[1. 0.]\n",
      " [2. 2.]]\n",
      "[np.float64(1.0), np.float64(2.0)]\n",
      "[np.float64(3.0), np.float64(inf)]\n"
     ]
    }
   ],
   "source": [
    "Klein_Cup_diagram = Persistent_Cup_Diagram(4, Klein_cosimplices, Klein_R, Klein_ReorderedCocycles)\n",
    "\n",
    "Klein_Cup_diagram_Matrix = Klein_Cup_diagram[0]\n",
    "Klein_b_time = Klein_Cup_diagram[1]\n",
    "Klein_d_time = Klein_Cup_diagram[2]\n",
    "\n",
    "print(Klein_Cup_diagram_Matrix)\n",
    "print(Klein_b_time)\n",
    "print(Klein_d_time)"
   ]
  },
  {
   "cell_type": "markdown",
   "id": "5a7e441b-40ee-4acd-b702-f5280ecfddb2",
   "metadata": {},
   "source": [
    "## Example 3: Vietoris-Rips Filtration\n",
    "\n",
    "We now look at an example using the VR Filtration of Oineus"
   ]
  },
  {
   "cell_type": "code",
   "execution_count": 31,
   "id": "7167ef0d-8ee0-484e-9046-0fdfa6783931",
   "metadata": {},
   "outputs": [],
   "source": [
    "# create 20 random points in space\n",
    "np.random.seed(1)\n",
    "n_points = 25\n",
    "dim = 3\n",
    "points = np.random.uniform(size=(n_points, dim))\n",
    "\n",
    "random_fil = oin.vr_filtration(points, max_dim=3, max_diameter=2)\n"
   ]
  },
  {
   "cell_type": "code",
   "execution_count": 42,
   "id": "0c92ebf5-2304-4850-9ee5-978ac855b5c1",
   "metadata": {},
   "outputs": [],
   "source": [
    "# cohomology\n",
    "dualize = True\n",
    "# create VRU decomposition object, does not perform reduction yet\n",
    "random_dcmp = oin.Decomposition(random_fil, dualize)\n",
    "\n",
    "rp = oin.ReductionParams()\n",
    "\n",
    "rp.compute_u = rp.compute_v = True\n",
    "rp.n_threads = 1\n",
    "# perform reduction\n",
    "random_dcmp.reduce(rp)\n",
    "\n",
    "# now we can acess V, R and U\n",
    "# indices are sorted_ids of simplices == indices in fil.cells()\n",
    "random_V = random_dcmp.v_data\n",
    "random_R = random_dcmp.r_data\n",
    "\n",
    "random_simplices = random_fil.simplices()\n",
    "random_cosimplices = sorted(random_simplices, key= lambda x: x.id , reverse = True)\n",
    "\n",
    "\n"
   ]
  },
  {
   "cell_type": "code",
   "execution_count": 36,
   "id": "6508ff53-cc8c-42a9-a9be-83f09db34979",
   "metadata": {},
   "outputs": [
    {
     "name": "stdout",
     "output_type": "stream",
     "text": [
      "[[0.         0.32704379]\n",
      " [0.         0.1700728 ]\n",
      " [0.         0.30340148]\n",
      " [0.         0.08638458]\n",
      " [0.         0.18086447]\n",
      " [0.         0.24370776]\n",
      " [0.         0.38523839]\n",
      " [0.         0.35819805]\n",
      " [0.         0.07626648]\n",
      " [0.         0.20888637]\n",
      " [0.         0.13934999]\n",
      " [0.         0.52027886]\n",
      " [0.         0.21002765]\n",
      " [0.         0.23391838]\n",
      " [0.         0.26361388]\n",
      " [0.         0.13060589]\n",
      " [0.         0.28022016]\n",
      " [0.         0.34253498]\n",
      " [0.         0.31673388]\n",
      " [0.         0.18260683]\n",
      " [0.         0.18450022]\n",
      " [0.         0.3916319 ]\n",
      " [0.         0.37265289]\n",
      " [0.         0.38167145]\n",
      " [0.                inf]]\n",
      "[[0.59214856 0.59248001]\n",
      " [0.55173832 0.60739285]\n",
      " [0.42764736 0.46143538]\n",
      " [0.41948053 0.46757238]\n",
      " [0.40872317 0.43248824]\n",
      " [0.39835614 0.49687024]\n",
      " [0.39412081 0.40582653]\n",
      " [0.28482741 0.32848274]\n",
      " [0.27021356 0.27603197]]\n",
      "[]\n"
     ]
    },
    {
     "data": {
      "image/png": "[encoded data removed]",
      "text/plain": [
       "<Figure size 640x480 with 1 Axes>"
      ]
     },
     "metadata": {},
     "output_type": "display_data"
    }
   ],
   "source": [
    "random_dgm_0 = random_dcmp.diagram(random_fil).in_dimension(0)\n",
    "assert type(random_dgm_0) is np.ndarray\n",
    "random_dgm_0_x = random_dgm_0[:,0]\n",
    "random_dgm_0_y = random_dgm_0[:,1]\n",
    "random_dgm_1 = random_dcmp.diagram(random_fil).in_dimension(1)\n",
    "random_dgm_1_x = random_dgm_1[:,0]\n",
    "random_dgm_1_y = random_dgm_1[:,1]\n",
    "#Alternative notation\n",
    "random_dgm_2 = random_dcmp.diagram(random_fil)[2]\n",
    "random_dgm_2_x = random_dgm_2[:,0]\n",
    "random_dgm_2_y = random_dgm_2[:,1]\n",
    "\n",
    "print(random_dgm_0)\n",
    "print(random_dgm_1)\n",
    "print(random_dgm_2)\n",
    "\n",
    "# To load the display window\n",
    "plt.plot(random_dgm_0_x,random_dgm_0_y, 'bo', label = '0-barcodes')\n",
    "plt.plot(random_dgm_1_x,random_dgm_1_y, 'ro', label = '1-barcodes')\n",
    "plt.plot(random_dgm_2_x,random_dgm_2_y, 'go', label = '2-barcodes')\n",
    "X = np.arange(0, 2, 0.05)\n",
    "Y = X\n",
    "plt.plot(X,Y, 'k-')\n",
    "#plt.plot(dgm_2_x,dgm_2_y, 'go', label = '2-barcodes')\n",
    "\n",
    "plt.xlabel(\"Births\")\n",
    "plt.ylabel(\"Deaths\")\n",
    "plt.title(\"Persistence Diagrams for Non-Essential classes in the simplicial Torus\")\n",
    "\n",
    "plt.legend()\n",
    "\n",
    "plt.show()"
   ]
  },
  {
   "cell_type": "code",
   "execution_count": 38,
   "id": "3a71d847-3b97-46fe-a875-fde2a46bc5e1",
   "metadata": {},
   "outputs": [
    {
     "name": "stdout",
     "output_type": "stream",
     "text": [
      "[14954, 14965, 14980, 14991, 14993, 15019, 15038, 15039, 15042, 15051, 15057, 15062, 15065, 15070, 15071, 15091, 15108, 15115, 15140, 15143, 15159, 15180, 15189, 15249] 0.5921485577890132 0.5924800141256829\n",
      "[724] 0.5517383212991068 0.6073928469400063\n",
      "[7565] 0.42764735813479127 0.4614353775841774\n",
      "[10970] 0.4194805339519085 0.46757237541555474\n",
      "[4042] 0.40872316869534264 0.43248823897430155\n",
      "[9099] 0.3983561392160871 0.49687023653485457\n",
      "[153] 0.39412081435111423 0.4058265290738\n",
      "[12928] 0.2848274086010449 0.32848274244918074\n",
      "[2499] 0.2702135627780473 0.2760319655102114\n"
     ]
    }
   ],
   "source": [
    "random_Rep_Cocycles = get_Cocycle_Reps(random_dcmp, random_fil, random_V, 2)\n",
    "\n",
    "for i in range(len(random_Rep_Cocycles)):\n",
    "    print(random_Rep_Cocycles[i].simplices, random_Rep_Cocycles[i].birth, random_Rep_Cocycles[i].death)"
   ]
  },
  {
   "cell_type": "code",
   "execution_count": 39,
   "id": "f7b708ef-b67e-49cd-a768-8eee1be38494",
   "metadata": {},
   "outputs": [
    {
     "name": "stdout",
     "output_type": "stream",
     "text": [
      "\n",
      "[2499] [np.float64(0.2702135627780473), np.float64(0.2760319655102114)]\n",
      "[12928] [np.float64(0.2848274086010449), np.float64(0.32848274244918074)]\n",
      "[153] [np.float64(0.39412081435111423), np.float64(0.4058265290738)]\n",
      "[4042] [np.float64(0.40872316869534264), np.float64(0.43248823897430155)]\n",
      "[7565] [np.float64(0.42764735813479127), np.float64(0.4614353775841774)]\n",
      "[10970] [np.float64(0.4194805339519085), np.float64(0.46757237541555474)]\n",
      "[9099] [np.float64(0.3983561392160871), np.float64(0.49687023653485457)]\n",
      "[14954, 14965, 14980, 14991, 14993, 15019, 15038, 15039, 15042, 15051, 15057, 15062, 15065, 15070, 15071, 15091, 15108, 15115, 15140, 15143, 15159, 15180, 15189, 15249] [np.float64(0.5921485577890132), np.float64(0.5924800141256829)]\n",
      "[724] [np.float64(0.5517383212991068), np.float64(0.6073928469400063)]\n"
     ]
    }
   ],
   "source": [
    "random_ReorderedCocycles = sorted(random_Rep_Cocycles, key= lambda x: (x.death, x.birth), reverse=False)\n",
    "\n",
    "print(\"\")\n",
    "\n",
    "for i in range(len(random_ReorderedCocycles)):\n",
    "    print(random_ReorderedCocycles[i].simplices,random_ReorderedCocycles[i].life)\n"
   ]
  },
  {
   "cell_type": "code",
   "execution_count": 40,
   "id": "25aef1f3-4d11-4e87-9334-c2e723a9a596",
   "metadata": {},
   "outputs": [
    {
     "name": "stdout",
     "output_type": "stream",
     "text": [
      "[[1. 0. 0. 0. 0. 0. 0. 0. 0.]\n",
      " [0. 1. 0. 0. 0. 0. 0. 0. 0.]\n",
      " [0. 0. 1. 0. 0. 0. 0. 0. 0.]\n",
      " [0. 0. 0. 1. 0. 0. 0. 0. 0.]\n",
      " [0. 0. 0. 0. 1. 0. 0. 0. 0.]\n",
      " [0. 0. 0. 0. 0. 1. 0. 0. 0.]\n",
      " [0. 0. 0. 0. 0. 0. 1. 0. 0.]\n",
      " [0. 0. 0. 0. 0. 0. 0. 1. 0.]\n",
      " [0. 0. 0. 0. 0. 0. 0. 0. 1.]]\n",
      "[np.float64(0.2702135627780473), np.float64(0.2848274086010449), np.float64(0.39412081435111423), np.float64(0.40872316869534264), np.float64(0.42764735813479127), np.float64(0.4194805339519085), np.float64(0.3983561392160871), np.float64(0.5921485577890132), np.float64(0.5517383212991068)]\n",
      "[np.float64(0.2760319655102114), np.float64(0.32848274244918074), np.float64(0.4058265290738), np.float64(0.43248823897430155), np.float64(0.4614353775841774), np.float64(0.46757237541555474), np.float64(0.49687023653485457), np.float64(0.5924800141256829), np.float64(0.6073928469400063)]\n"
     ]
    }
   ],
   "source": [
    "random_Cup_diagram = Persistent_Cup_Diagram(4, random_cosimplices, random_R, random_ReorderedCocycles)\n",
    "\n",
    "random_Cup_diagram_Matrix = random_Cup_diagram[0]\n",
    "random_b_time = random_Cup_diagram[1]\n",
    "random_d_time = random_Cup_diagram[2]\n",
    "\n",
    "print(random_Cup_diagram_Matrix)\n",
    "print(random_b_time)\n",
    "print(random_d_time)"
   ]
  },
  {
   "cell_type": "code",
   "execution_count": null,
   "id": "81e425e0-974e-4ab7-8be6-2ed7f9688589",
   "metadata": {},
   "outputs": [],
   "source": []
  }
 ],
 "metadata": {
  "kernelspec": {
   "display_name": "Python 3 (ipykernel)",
   "language": "python",
   "name": "python3"
  },
  "language_info": {
   "codemirror_mode": {
    "name": "ipython",
    "version": 3
   },
   "file_extension": ".py",
   "mimetype": "text/x-python",
   "name": "python",
   "nbconvert_exporter": "python",
   "pygments_lexer": "ipython3",
   "version": "3.13.4"
  }
 },
 "nbformat": 4,
 "nbformat_minor": 5
}
